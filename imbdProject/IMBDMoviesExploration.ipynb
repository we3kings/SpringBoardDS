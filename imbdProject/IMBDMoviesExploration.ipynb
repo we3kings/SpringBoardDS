{
 "cells": [
  {
   "cell_type": "code",
   "execution_count": 1,
   "metadata": {},
   "outputs": [],
   "source": [
    "# import statements\n",
    "import numpy as numpy\n",
    "import pandas as pd\n",
    "import bokeh as bk\n",
    "from sklearn import linear_model as lm"
   ]
  },
  {
   "cell_type": "code",
   "execution_count": 6,
   "metadata": {},
   "outputs": [
    {
     "name": "stdout",
     "output_type": "stream",
     "text": [
      "<class 'pandas.core.frame.DataFrame'>\n",
      "RangeIndex: 5043 entries, 0 to 5042\n",
      "Data columns (total 28 columns):\n",
      "color                        5024 non-null object\n",
      "director_name                4939 non-null object\n",
      "num_critic_for_reviews       4993 non-null float64\n",
      "duration                     5028 non-null float64\n",
      "director_facebook_likes      4939 non-null float64\n",
      "actor_3_facebook_likes       5020 non-null float64\n",
      "actor_2_name                 5030 non-null object\n",
      "actor_1_facebook_likes       5036 non-null float64\n",
      "gross                        4159 non-null float64\n",
      "genres                       5043 non-null object\n",
      "actor_1_name                 5036 non-null object\n",
      "movie_title                  5043 non-null object\n",
      "num_voted_users              5043 non-null int64\n",
      "cast_total_facebook_likes    5043 non-null int64\n",
      "actor_3_name                 5020 non-null object\n",
      "facenumber_in_poster         5030 non-null float64\n",
      "plot_keywords                4890 non-null object\n",
      "movie_imdb_link              5043 non-null object\n",
      "num_user_for_reviews         5022 non-null float64\n",
      "language                     5031 non-null object\n",
      "country                      5038 non-null object\n",
      "content_rating               4740 non-null object\n",
      "budget                       4551 non-null float64\n",
      "title_year                   4935 non-null float64\n",
      "actor_2_facebook_likes       5030 non-null float64\n",
      "imdb_score                   5043 non-null float64\n",
      "aspect_ratio                 4714 non-null float64\n",
      "movie_facebook_likes         5043 non-null int64\n",
      "dtypes: float64(13), int64(3), object(12)\n",
      "memory usage: 1.1+ MB\n"
     ]
    }
   ],
   "source": [
    "# readData imbd Data\n",
    "imbdData = pd.read_csv('C:/Users/canto/Documents/GitHub/SpringBoardDS/imbdProject/movie-imbd-dataset/movie_metadata.csv')\n",
    "\n",
    "\n"
   ]
  },
  {
   "cell_type": "code",
   "execution_count": null,
   "metadata": {},
   "outputs": [],
   "source": [
    "# Get structure of the data missing values and types of rows subset training and testing data\n",
    "imbdData.info()\n",
    "\n",
    "\n"
   ]
  },
  {
   "cell_type": "code",
   "execution_count": null,
   "metadata": {},
   "outputs": [],
   "source": [
    "# scatter plots for correlation"
   ]
  },
  {
   "cell_type": "code",
   "execution_count": null,
   "metadata": {},
   "outputs": [],
   "source": [
    "# histoGram for distributions"
   ]
  },
  {
   "cell_type": "code",
   "execution_count": null,
   "metadata": {},
   "outputs": [],
   "source": []
  }
 ],
 "metadata": {
  "kernelspec": {
   "display_name": "Python 3",
   "language": "python",
   "name": "python3"
  },
  "language_info": {
   "codemirror_mode": {
    "name": "ipython",
    "version": 3
   },
   "file_extension": ".py",
   "mimetype": "text/x-python",
   "name": "python",
   "nbconvert_exporter": "python",
   "pygments_lexer": "ipython3",
   "version": "3.6.6"
  }
 },
 "nbformat": 4,
 "nbformat_minor": 2
}
