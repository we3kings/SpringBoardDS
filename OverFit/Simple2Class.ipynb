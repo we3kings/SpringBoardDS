{
 "cells": [
  {
   "cell_type": "code",
   "execution_count": 2,
   "metadata": {},
   "outputs": [],
   "source": [
    "import pandas as pd\n",
    "import matplotlib.pyplot as plt\n",
    "import seaborn as sbn\n",
    "import numpy as np\n",
    "import scipy.stats as stats\n",
    "from scipy.spatial.distance import euclidean as dist"
   ]
  },
  {
   "cell_type": "code",
   "execution_count": 3,
   "metadata": {},
   "outputs": [
    {
     "data": {
      "text/plain": [
       "(160, 300)"
      ]
     },
     "execution_count": 3,
     "metadata": {},
     "output_type": "execute_result"
    }
   ],
   "source": [
    "dftrain = pd.read_csv('raw.csv')\n",
    "classA =dftrain.target ==1\n",
    "classB =dftrain.target ==0\n",
    "total =len(dftrain)\n",
    "dftrain[classB].head(5) \n",
    "dfA = dftrain[classA].iloc[:,2:]\n",
    "dfB = dftrain[classB].iloc[:,2:]\n",
    "dfA.shape"
   ]
  },
  {
   "cell_type": "code",
   "execution_count": 4,
   "metadata": {},
   "outputs": [
    {
     "data": {
      "image/png": "[encoded data removed]",
      "text/plain": [
       "<Figure size 432x288 with 1 Axes>"
      ]
     },
     "metadata": {
      "needs_background": "light"
     },
     "output_type": "display_data"
    }
   ],
   "source": [
    "var = 296\n",
    "plt.hist([dfA.iloc[:,var],dfB.iloc[:,var]], label = ['Class A', ' Class B'],density =True )\n",
    "plt.legend(loc='upper right')\n",
    "plt.show()\n",
    "# looking at distributions seems Class b is generally larger"
   ]
  },
  {
   "cell_type": "code",
   "execution_count": 5,
   "metadata": {},
   "outputs": [],
   "source": [
    "# looking at distributions seems Class b is generally larger\n",
    "#Out line for next sections\n",
    "\n",
    "#Create vectors to store results from Ftest and from ttest\n",
    "import scipy.stats as stats\n",
    "centerChoice = 'mean' # choices median or mean \n",
    "Lttest =np.zeros(len(dfA.columns))\n",
    "ttResults =np.zeros(len(dfA.columns))\n",
    "equalVariances = np.full(len(dfA.columns),True,dtype=bool)\n",
    "keepVar = np.full(len(dfA.columns),True, dtype = bool)\n",
    "alpha1 = .05\n",
    "alpha2 = .01\n",
    "for i in range(0,len(dfA.columns)):\n",
    "    Lttest[i] = stats.levene(dfA.iloc[:,i],dfB.iloc[:,i],center=centerChoice).pvalue\n",
    "    equalVariances[i] = ((1-alpha1/2)>Lttest[i])&(Lttest[i]>alpha1/2)\n",
    "    ttResults[i] = stats.ttest_ind(dfA.iloc[:,i],dfB.iloc[:,i],equal_var= equalVariances[i]).pvalue\n",
    "    keepVar = ((1-alpha2/2)>ttResults[i])&(ttResults>alpha2/2)"
   ]
  },
  {
   "cell_type": "code",
   "execution_count": 6,
   "metadata": {},
   "outputs": [],
   "source": [
    "dfAReduced = dfA.drop(dfA.columns[keepVar], axis =1)\n",
    "dfBReduced = dfB.drop(dfA.columns[keepVar], axis =1)\n",
    "dfAMeans = dfAReduced.mean(axis = 0)\n",
    "dfBMeans = dfBReduced.mean(axis = 0)\n"
   ]
  },
  {
   "cell_type": "code",
   "execution_count": 7,
   "metadata": {},
   "outputs": [
    {
     "data": {
      "text/plain": [
       "19750"
      ]
     },
     "execution_count": 7,
     "metadata": {},
     "output_type": "execute_result"
    }
   ],
   "source": [
    "testData=pd.read_csv(\"test.csv\")\n",
    "testData=testData.iloc[:,1:]\n",
    "testData =testData.drop(testData.columns[keepVar], axis=1)\n",
    "testData.columns\n",
    "len(testData)"
   ]
  },
  {
   "cell_type": "code",
   "execution_count": 10,
   "metadata": {},
   "outputs": [],
   "source": [
    "distFromCenter= np.zeros((len(testData),2))\n",
    "for i in range(0,len(testData)):\n",
    "    distFromCenter[i,0] = dist(np.array(dfAMeans).reshape(-1,1),testData.values[i,:].reshape(-1,1))\n",
    "    distFromCenter[i,1] = dist(np.array(dfBMeans).reshape(-1,1),testData.values[i,:].reshape(-1,1))\n",
    "\n",
    "result = pd.DataFrame(distFromCenter).idxmin(axis = 1)\n",
    "result.index.name = \"id\"\n",
    "result.name=['target']\n",
    "result.index = result.index +250\n",
    "result.to_csv(\"results4.csv\")\n"
   ]
  },
  {
   "cell_type": "code",
   "execution_count": 104,
   "metadata": {},
   "outputs": [
    {
     "data": {
      "text/plain": [
       "id\n",
       "250    0\n",
       "251    0\n",
       "252    1\n",
       "253    1\n",
       "254    1\n",
       "Name: target, dtype: int64"
      ]
     },
     "execution_count": 104,
     "metadata": {},
     "output_type": "execute_result"
    }
   ],
   "source": [
    "result.head()"
   ]
  },
  {
   "cell_type": "code",
   "execution_count": 70,
   "metadata": {},
   "outputs": [
    {
     "data": {
      "text/plain": [
       "335750"
      ]
     },
     "execution_count": 70,
     "metadata": {},
     "output_type": "execute_result"
    }
   ],
   "source": [
    "np.array(testData).size"
   ]
  },
  {
   "cell_type": "code",
   "execution_count": 73,
   "metadata": {},
   "outputs": [
    {
     "data": {
      "text/plain": [
       "17"
      ]
     },
     "execution_count": 73,
     "metadata": {},
     "output_type": "execute_result"
    }
   ],
   "source": [
    "np.array(dfAMeans).size"
   ]
  },
  {
   "cell_type": "code",
   "execution_count": 82,
   "metadata": {},
   "outputs": [
    {
     "data": {
      "text/plain": [
       "numpy.ndarray"
      ]
     },
     "execution_count": 82,
     "metadata": {},
     "output_type": "execute_result"
    }
   ],
   "source": [
    "type(testData.values[i,:])"
   ]
  },
  {
   "cell_type": "code",
   "execution_count": 58,
   "metadata": {},
   "outputs": [
    {
     "data": {
      "text/plain": [
       "17.0"
      ]
     },
     "execution_count": 58,
     "metadata": {},
     "output_type": "execute_result"
    }
   ],
   "source": []
  },
  {
   "cell_type": "code",
   "execution_count": null,
   "metadata": {},
   "outputs": [],
   "source": []
  }
 ],
 "metadata": {
  "kernelspec": {
   "display_name": "Python 3",
   "language": "python",
   "name": "python3"
  },
  "language_info": {
   "codemirror_mode": {
    "name": "ipython",
    "version": 3
   },
   "file_extension": ".py",
   "mimetype": "text/x-python",
   "name": "python",
   "nbconvert_exporter": "python",
   "pygments_lexer": "ipython3",
   "version": "3.7.1"
  }
 },
 "nbformat": 4,
 "nbformat_minor": 2
}
